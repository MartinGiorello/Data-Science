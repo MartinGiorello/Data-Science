{
 "cells": [
  {
   "cell_type": "code",
   "execution_count": null,
   "id": "3bc5da12-95af-40cb-8406-8715bbfe0eae",
   "metadata": {},
   "outputs": [],
   "source": [
    "#Diccionarios:\n",
    "\n",
    "Registro de estudiantes: Crea un diccionario en el que las claves sean los nombres de los estudiantes y los valores sean sus calificaciones. Luego, escribe un programa que permita al usuario buscar la calificación de un estudiante por su nombre.\n",
    "\n",
    "Crea un diccionario que contenga tu nombre, edad, hobbies, y toda la información que consideres relevante para presentarte en el curso\n",
    "\n",
    "Contar elementos: Crea un diccionario que represente una bolsa con diferentes tipos de frutas y la cantidad de cada tipo de fruta en la bolsa. Escribe un programa que cuente cuántas frutas hay en total."
   ]
  },
  {
   "cell_type": "code",
   "execution_count": 17,
   "id": "e53ee965-fee0-44ed-985c-4436c286b810",
   "metadata": {},
   "outputs": [
    {
     "data": {
      "text/plain": [
       "6"
      ]
     },
     "execution_count": 17,
     "metadata": {},
     "output_type": "execute_result"
    }
   ],
   "source": [
    "#Crea un diccionario en el que las claves sean los nombres de los estudiantes y los valores sean sus calificaciones. \n",
    "#Luego, escribe un programa que permita al usuario buscar la calificación de un estudiante por su nombre.\n",
    "Calificaciones = {\n",
    "    \"Martin\": 6,\n",
    "    \"Jose\": 7.5,\n",
    "    \"Leandro\": 4,\n",
    "    \"Ludmila\": 9,\n",
    "    \"Sofia\": 3,\n",
    "    \"Carla\": 7,\n",
    "    \"Faustino\": 6,\n",
    "}\n",
    "\n",
    "Calificaciones [\"Martin\"]"
   ]
  },
  {
   "cell_type": "code",
   "execution_count": 18,
   "id": "4e0d4738-58a4-4826-8162-0ef955d42ef6",
   "metadata": {},
   "outputs": [
    {
     "data": {
      "text/plain": [
       "9"
      ]
     },
     "execution_count": 18,
     "metadata": {},
     "output_type": "execute_result"
    }
   ],
   "source": [
    "Calificaciones [\"Ludmila\"]"
   ]
  },
  {
   "cell_type": "code",
   "execution_count": 35,
   "id": "40dcbb51-db3e-4c70-b13d-06d3492b376d",
   "metadata": {},
   "outputs": [],
   "source": [
    "#Crea un diccionario que contenga tu nombre, edad, hobbies, y toda la información que consideres relevante para presentarte en el curso\n",
    "CaracteristicasTincho = {\n",
    "    \"Nombre\": \"Martin Ariel Giorello\",\n",
    "    \"Apodo\": \"Tincho\",\n",
    "    \"Edad\": 27,\n",
    "    \"Hobbies\": [\"Andar en bicicleta\", \"Entrenar\", \"Gaming\", \"Cocinar\", \"Leer\", \"Pasear\"],\n",
    "    \"Generos de musica favoritos\": [\"rock\", \"punk\", \"hard rock\", \"metal\"],\n",
    "    \"Pelicula favorita\": \"Forrest Gump\",\n",
    "    \"Libro favorito\": \"El mito de Sisifo\",\n",
    "    \"App favorita\": \"Twitter\",\n",
    "}"
   ]
  },
  {
   "cell_type": "code",
   "execution_count": 36,
   "id": "e4277ae8-7800-469d-985e-a3bb54feb614",
   "metadata": {},
   "outputs": [
    {
     "data": {
      "text/plain": [
       "{'Nombre': 'Martin Ariel Giorello',\n",
       " 'Apodo': 'Tincho',\n",
       " 'Edad': 27,\n",
       " 'Hobbies': ['Andar en bicicleta',\n",
       "  'Entrenar',\n",
       "  'Gaming',\n",
       "  'Cocinar',\n",
       "  'Leer',\n",
       "  'Pasear'],\n",
       " 'Generos de musica favoritos': ['rock', 'punk', 'hard rock', 'metal'],\n",
       " 'Pelicula favorita': 'Forrest Gump',\n",
       " 'Libro favorito': 'El mito de Sisifo',\n",
       " 'App favorita': 'Twitter'}"
      ]
     },
     "execution_count": 36,
     "metadata": {},
     "output_type": "execute_result"
    }
   ],
   "source": [
    "CaracteristicasTincho"
   ]
  },
  {
   "cell_type": "code",
   "execution_count": 64,
   "id": "d9902b81-10f8-40e7-9c5d-62caa7110e73",
   "metadata": {},
   "outputs": [
    {
     "name": "stdout",
     "output_type": "stream",
     "text": [
      "Leer\n"
     ]
    }
   ],
   "source": [
    "# como saber cual es el ante ultimo hobbie de la lista de hobbies\n",
    "print (CaracteristicasTincho [\"Hobbies\"][-2])"
   ]
  },
  {
   "cell_type": "code",
   "execution_count": 40,
   "id": "cd7efb3e-88b3-4931-af9b-507dc9ce4f88",
   "metadata": {},
   "outputs": [],
   "source": [
    "# Contar elementos: Crea un diccionario que represente una bolsa con diferentes tipos de frutas y la cantidad de cada tipo de fruta en la bolsa. \n",
    "# Escribe un programa que cuente cuántas frutas hay en total.\n",
    "\n",
    "BolsaFrutas = {\n",
    "    \"Pera\": 7,\n",
    "    \"Sandia\": 1,\n",
    "    \"Manzana\": 12,\n",
    "    \"Naranja\": 8,\n",
    "    \"Frutillas\": 30,\n",
    "}"
   ]
  },
  {
   "cell_type": "code",
   "execution_count": 57,
   "id": "c712a9f8-73d8-4361-bad8-e7ad92e85b68",
   "metadata": {},
   "outputs": [],
   "source": [
    "CantidadTotal = sum(BolsaFrutas.values())"
   ]
  },
  {
   "cell_type": "code",
   "execution_count": 55,
   "id": "ca218075-ca71-4540-b95e-6a3655352077",
   "metadata": {},
   "outputs": [
    {
     "data": {
      "text/plain": [
       "58"
      ]
     },
     "execution_count": 55,
     "metadata": {},
     "output_type": "execute_result"
    }
   ],
   "source": [
    "CantidadTotal"
   ]
  },
  {
   "cell_type": "code",
   "execution_count": 66,
   "id": "0a5b4707-96e7-44a6-b008-50e05d5523c8",
   "metadata": {},
   "outputs": [
    {
     "name": "stdout",
     "output_type": "stream",
     "text": [
      "Hoy pude comprar 58 frutas.\n"
     ]
    }
   ],
   "source": [
    "print (\"Hoy pude comprar\", CantidadTotal, \"frutas.\")"
   ]
  },
  {
   "cell_type": "code",
   "execution_count": 52,
   "id": "03c74987-31c6-4184-ae52-0d3a047e9c6e",
   "metadata": {},
   "outputs": [
    {
     "name": "stdout",
     "output_type": "stream",
     "text": [
      "Tengo la siguiente fruta:  Pera\n",
      "Tengo la siguiente fruta:  Sandia\n",
      "Tengo la siguiente fruta:  Manzana\n",
      "Tengo la siguiente fruta:  Naranja\n",
      "Tengo la siguiente fruta:  Frutillas\n"
     ]
    }
   ],
   "source": [
    "# prueba for\n",
    "for x in BolsaFrutas:\n",
    "    print (\"Tengo la siguiente fruta: \", x)"
   ]
  }
 ],
 "metadata": {
  "kernelspec": {
   "display_name": "Python 3 (ipykernel)",
   "language": "python",
   "name": "python3"
  },
  "language_info": {
   "codemirror_mode": {
    "name": "ipython",
    "version": 3
   },
   "file_extension": ".py",
   "mimetype": "text/x-python",
   "name": "python",
   "nbconvert_exporter": "python",
   "pygments_lexer": "ipython3",
   "version": "3.11.5"
  }
 },
 "nbformat": 4,
 "nbformat_minor": 5
}
