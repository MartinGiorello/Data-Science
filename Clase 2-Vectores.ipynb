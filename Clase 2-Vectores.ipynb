{
 "cells": [
  {
   "cell_type": "markdown",
   "id": "6f3254d2-f7be-492d-bd3d-7ada5a42b588",
   "metadata": {},
   "source": [
    "#Acá va algunos ejercicios para entrar en calor:\r\n",
    "\r\n",
    "Vectores (Listas):\r\n",
    "\r\n",
    "a. Crea una lista con todas tus materias cursadas e iterala con un ciclo for imprimiendo un mensaje en pantalla\r\n",
    "\r\n",
    "Suma de elementos: Crea una lista de números y escribe un programa que calcule la suma de todos los elementos en la lista.\r\n",
    "\r\n",
    "Buscar el máximo: Escribe un programa que encuentre el valor máximo en una lista de números.\r\n",
    "\r\n",
    "Crea un programa que calcule el promedio de todos los elementos de uutas hay en total."
   ]
  },
  {
   "cell_type": "code",
   "execution_count": 2,
   "id": "c993f719-4131-4943-b681-729fc6a31baa",
   "metadata": {},
   "outputs": [],
   "source": [
    "MateriasCursadas = [\"PCPC\", \"Comunicacion 1\", \"Comunicacion 2\", \"Teorias del Estado\", \"Semiotica\", \"Historia social general\", \"Historia argentina\", \"Datos\", \"Economia\", \"Psicologia y comunicacion\"]"
   ]
  },
  {
   "cell_type": "code",
   "execution_count": 5,
   "id": "63b40d89-245f-4bb5-a215-cbf2c683e981",
   "metadata": {},
   "outputs": [
    {
     "name": "stdout",
     "output_type": "stream",
     "text": [
      "Comunicacion 1 la mejor materia lejos\n"
     ]
    }
   ],
   "source": [
    "print (MateriasCursadas [1], \"la mejor materia lejos\")"
   ]
  },
  {
   "cell_type": "code",
   "execution_count": 13,
   "id": "03101005-5c7c-4b87-a969-49d3f450513f",
   "metadata": {},
   "outputs": [
    {
     "name": "stdout",
     "output_type": "stream",
     "text": [
      "['PCPC', 'Comunicacion 1', 'Comunicacion 2', 'Teorias del Estado', 'Semiotica', 'Historia social general', 'Historia argentina', 'Datos', 'Economia', 'Psicologia y comunicacion']\n"
     ]
    }
   ],
   "source": [
    "print (MateriasCursadas)"
   ]
  },
  {
   "cell_type": "code",
   "execution_count": 31,
   "id": "e103060c-c9b1-4709-9619-2d92a5952a0d",
   "metadata": {},
   "outputs": [
    {
     "name": "stdout",
     "output_type": "stream",
     "text": [
      "Una de mis materias favoritas fue PCPC . Le gustaron todas jaja\n",
      "Una de mis materias favoritas fue Comunicacion 1 . Le gustaron todas jaja\n",
      "Una de mis materias favoritas fue Comunicacion 2 . Le gustaron todas jaja\n",
      "Una de mis materias favoritas fue Teorias del Estado . Le gustaron todas jaja\n",
      "Una de mis materias favoritas fue Semiotica . Le gustaron todas jaja\n",
      "Una de mis materias favoritas fue Historia social general . Le gustaron todas jaja\n",
      "Una de mis materias favoritas fue Historia argentina . Le gustaron todas jaja\n",
      "Una de mis materias favoritas fue Datos . Le gustaron todas jaja\n",
      "Una de mis materias favoritas fue Economia . Le gustaron todas jaja\n",
      "Una de mis materias favoritas fue Psicologia y comunicacion . Le gustaron todas jaja\n"
     ]
    }
   ],
   "source": [
    "#Crea una lista con todas tus materias cursadas e iterala con un ciclo for imprimiendo un mensaje en pantalla\n",
    "for materia in MateriasCursadas:\n",
    "    print (\"Una de mis materias favoritas fue\", materia,\". Le gustaron todas jaja\") "
   ]
  },
  {
   "cell_type": "code",
   "execution_count": 24,
   "id": "470cde51-8d76-4fc7-9b79-871df7b30772",
   "metadata": {},
   "outputs": [],
   "source": [
    "ListaNumeros = [1,2,3,4,5,6,7,8,9,10,11,12,13,14,15]"
   ]
  },
  {
   "cell_type": "code",
   "execution_count": 38,
   "id": "f4c8fdb3-8661-42f5-96e4-adb8ba0864b9",
   "metadata": {},
   "outputs": [],
   "source": [
    "ListaNumeros2 = [5,9,2.3,3,4,5,60,7,81,9,100,11,12,14,14,15]"
   ]
  },
  {
   "cell_type": "code",
   "execution_count": 39,
   "id": "ab20a848-1f10-4549-911d-59e56bdae2a3",
   "metadata": {},
   "outputs": [
    {
     "data": {
      "text/plain": [
       "351.3"
      ]
     },
     "execution_count": 39,
     "metadata": {},
     "output_type": "execute_result"
    }
   ],
   "source": [
    "sum(ListaNumeros2)"
   ]
  },
  {
   "cell_type": "code",
   "execution_count": 40,
   "id": "2b9e9e23-4a6b-478b-b2e6-2749bf7b7a73",
   "metadata": {},
   "outputs": [
    {
     "data": {
      "text/plain": [
       "21.95625"
      ]
     },
     "execution_count": 40,
     "metadata": {},
     "output_type": "execute_result"
    }
   ],
   "source": [
    "sum(ListaNumeros2)/len(ListaNumeros2)"
   ]
  },
  {
   "cell_type": "code",
   "execution_count": 27,
   "id": "811bc2d5-ecb6-45d9-9b8a-4dbfa51abaab",
   "metadata": {},
   "outputs": [
    {
     "data": {
      "text/plain": [
       "120"
      ]
     },
     "execution_count": 27,
     "metadata": {},
     "output_type": "execute_result"
    }
   ],
   "source": [
    "#Suma de elementos: Crea una lista de números y escribe un programa que calcule la suma de todos los elementos en la lista.\n",
    "sum(ListaNumeros)"
   ]
  },
  {
   "cell_type": "code",
   "execution_count": 30,
   "id": "d89ceda4-45f5-46b3-8877-828b0998cb23",
   "metadata": {},
   "outputs": [
    {
     "data": {
      "text/plain": [
       "15"
      ]
     },
     "execution_count": 30,
     "metadata": {},
     "output_type": "execute_result"
    }
   ],
   "source": [
    "#Buscar el máximo: Escribe un programa que encuentre el valor máximo en una lista de números.\n",
    "ListaNumeros [-1]"
   ]
  },
  {
   "cell_type": "code",
   "execution_count": 37,
   "id": "1f214009-b2bb-4a77-96b5-7161b133ffb8",
   "metadata": {},
   "outputs": [
    {
     "data": {
      "text/plain": [
       "8.0"
      ]
     },
     "execution_count": 37,
     "metadata": {},
     "output_type": "execute_result"
    }
   ],
   "source": [
    "#Crea un programa que calcule el promedio de todos los elementos de uutas hay en total.\n",
    "sum(ListaNumeros)/len(ListaNumeros)\n"
   ]
  }
 ],
 "metadata": {
  "kernelspec": {
   "display_name": "Python 3 (ipykernel)",
   "language": "python",
   "name": "python3"
  },
  "language_info": {
   "codemirror_mode": {
    "name": "ipython",
    "version": 3
   },
   "file_extension": ".py",
   "mimetype": "text/x-python",
   "name": "python",
   "nbconvert_exporter": "python",
   "pygments_lexer": "ipython3",
   "version": "3.11.5"
  }
 },
 "nbformat": 4,
 "nbformat_minor": 5
}
