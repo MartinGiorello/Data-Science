{
 "cells": [
  {
   "cell_type": "code",
   "execution_count": null,
   "id": "a40f5281-76fa-42b1-ae7b-9cafff1b20b6",
   "metadata": {},
   "outputs": [],
   "source": [
    "#Crea un programa que solicite al usuario ingresar dos números. Luego, compara los dos números e imprime un mensaje que indique cuál de los dos números es mayor."
   ]
  },
  {
   "cell_type": "code",
   "execution_count": 1,
   "id": "9c8ba6cb-55e6-403e-a6b2-5404f43ca0b0",
   "metadata": {},
   "outputs": [
    {
     "name": "stdin",
     "output_type": "stream",
     "text": [
      "¿cuantos dias a la semana hace actividad fisica? 0\n"
     ]
    }
   ],
   "source": [
    "Fact = input(\"¿cuantos dias a la semana hace actividad fisica?\")"
   ]
  },
  {
   "cell_type": "code",
   "execution_count": 2,
   "id": "5aae2e87-27eb-4cb9-93ad-2c943285e39b",
   "metadata": {},
   "outputs": [],
   "source": [
    "Fact = int(Fact)"
   ]
  },
  {
   "cell_type": "code",
   "execution_count": 3,
   "id": "0d8fee5b-ac73-48f7-a063-bd0dfb5847bc",
   "metadata": {},
   "outputs": [
    {
     "name": "stdin",
     "output_type": "stream",
     "text": [
      "¿cuantos dias cree que deberia hacer actividad fisica? 5\n"
     ]
    }
   ],
   "source": [
    "Recomendable = input(\"¿cuantos dias cree que deberia hacer actividad fisica?\")"
   ]
  },
  {
   "cell_type": "code",
   "execution_count": 4,
   "id": "0a7c29eb-33f7-4f70-89c4-9abd846dbdd6",
   "metadata": {},
   "outputs": [],
   "source": [
    "Recomendable = int(Recomendable)"
   ]
  },
  {
   "cell_type": "code",
   "execution_count": 5,
   "id": "efa4613e-0bf7-4d2c-b093-eae482fa48d3",
   "metadata": {},
   "outputs": [
    {
     "data": {
      "text/plain": [
       "False"
      ]
     },
     "execution_count": 5,
     "metadata": {},
     "output_type": "execute_result"
    }
   ],
   "source": [
    "Fact == Recomendable"
   ]
  },
  {
   "cell_type": "code",
   "execution_count": 10,
   "id": "9ee76761-86e4-4bda-9150-9a379abc3f89",
   "metadata": {},
   "outputs": [
    {
     "name": "stdout",
     "output_type": "stream",
     "text": [
      "Hay que arrancar a hacer ejercicio che...\n"
     ]
    }
   ],
   "source": [
    "if Fact > Recomendable:\n",
    "    print (\"Me alegro! estas haciendo mas de lo recomendado!\")\n",
    "else: print (\"Hay que arrancar a hacer ejercicio che...\")"
   ]
  }
 ],
 "metadata": {
  "kernelspec": {
   "display_name": "Python 3 (ipykernel)",
   "language": "python",
   "name": "python3"
  },
  "language_info": {
   "codemirror_mode": {
    "name": "ipython",
    "version": 3
   },
   "file_extension": ".py",
   "mimetype": "text/x-python",
   "name": "python",
   "nbconvert_exporter": "python",
   "pygments_lexer": "ipython3",
   "version": "3.11.5"
  }
 },
 "nbformat": 4,
 "nbformat_minor": 5
}
