{
 "cells": [
  {
   "cell_type": "code",
   "execution_count": 2,
   "id": "edf928d7-49e1-49af-8a64-a18e308a6cab",
   "metadata": {},
   "outputs": [
    {
     "name": "stdin",
     "output_type": "stream",
     "text": [
      "Por favor ingrese su numero de documento: 39462640\n"
     ]
    }
   ],
   "source": [
    "#Escribe un programa que pida al usuario ingresar un número. Luego, verifica si ese número es positivo o negativo, e imprime un mensaje correspondiente.\n",
    "\n",
    "NumeroDni = input (\"Por favor ingrese su numero de documento:\")"
   ]
  },
  {
   "cell_type": "code",
   "execution_count": 4,
   "id": "2e80f4cf-a917-48b3-be3c-a28c1fbe4c5b",
   "metadata": {},
   "outputs": [
    {
     "data": {
      "text/plain": [
       "str"
      ]
     },
     "execution_count": 4,
     "metadata": {},
     "output_type": "execute_result"
    }
   ],
   "source": [
    "type (NumeroDni)"
   ]
  },
  {
   "cell_type": "code",
   "execution_count": 5,
   "id": "45ce7450-c5bc-4dc3-9b30-b150c6875837",
   "metadata": {},
   "outputs": [],
   "source": [
    "NumeroDni = int(NumeroDni)"
   ]
  },
  {
   "cell_type": "code",
   "execution_count": 6,
   "id": "1bb2d73f-e733-4f4e-8424-56cda85f2f7b",
   "metadata": {},
   "outputs": [
    {
     "data": {
      "text/plain": [
       "int"
      ]
     },
     "execution_count": 6,
     "metadata": {},
     "output_type": "execute_result"
    }
   ],
   "source": [
    "type (NumeroDni)"
   ]
  },
  {
   "cell_type": "code",
   "execution_count": 8,
   "id": "f36087d6-24c3-4692-a7cb-37939572e4e6",
   "metadata": {},
   "outputs": [
    {
     "name": "stdout",
     "output_type": "stream",
     "text": [
      "es positivo\n"
     ]
    }
   ],
   "source": [
    "if NumeroDni >0:\n",
    "    print (\"es positivo\")\n",
    "else: print (\"es negativo\") "
   ]
  }
 ],
 "metadata": {
  "kernelspec": {
   "display_name": "Python 3 (ipykernel)",
   "language": "python",
   "name": "python3"
  },
  "language_info": {
   "codemirror_mode": {
    "name": "ipython",
    "version": 3
   },
   "file_extension": ".py",
   "mimetype": "text/x-python",
   "name": "python",
   "nbconvert_exporter": "python",
   "pygments_lexer": "ipython3",
   "version": "3.11.5"
  }
 },
 "nbformat": 4,
 "nbformat_minor": 5
}
